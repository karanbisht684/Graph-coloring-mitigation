{
 "cells": [
  {
   "cell_type": "code",
   "execution_count": 1,
   "id": "bb0839eb",
   "metadata": {},
   "outputs": [],
   "source": [
    "import numpy as np\n",
    "import matplotlib.pyplot as plt\n",
    "import math\n",
    "import networkx as nx\n",
    "import random"
   ]
  },
  {
   "cell_type": "code",
   "execution_count": null,
   "id": "27d380d1",
   "metadata": {},
   "outputs": [],
   "source": [
    "def F_m_k(m,k,R):\n",
    "    if m/k >= R:\n",
    "        return 1\n",
    "    else:\n",
    "        return 0\n",
    "        \n",
    "def C_l(l,z,degrees_poisson,threshold): \n",
    "    sum_k = 0\n",
    "    for k in range(l+1, max(degrees_poisson)+1):\n",
    "        sum_n = 0\n",
    "        for n in range(0,l+1):\n",
    "            sum_n += (math.factorial(k-1)/math.factorial(k-1-l)*math.factorial(l-n)*math.factorial(n))*pow(-1, l+n)*(k/z)*(count_occurrences(list(degrees_poisson),k)/num_nodes)*F_m_k(n,k,threshold)\n",
    "        sum_k += sum_n \n",
    "    return sum_k\n",
    "\n",
    "num_nodes = 20000\n",
    "z=17                                                                                                                            \n",
    "rho_0 = 0.0008\n",
    "# rho_0 = 1 /num_nodes\n",
    "degrees_poisson = np.random.poisson(z, num_nodes)\n",
    "z = np.mean(degrees_poisson)\n",
    "threshold = np.arange(0.3,0.05,- 0.01)\n",
    "critical_final_z = []\n",
    "# for z in range(5,20,1):\n",
    "#     degrees_poisson = np.random.poisson(z, num_nodes)\n",
    "#     average_degree = np.mean(degrees_poisson)\n",
    "#     for R in threshold:\n",
    "#         critical = []\n",
    "#         sum_k = 0\n",
    "#         for k in range(1, m                                                                                                                                    \n",
    "avg = []                                                                                                                                             \n",
    "for R in threshold:\n",
    "    condition = pow((C_l(1,z,degrees_poisson,R)-1),2) - (4*C_l(0,z,degrees_poisson,R)*C_l(2,z,degrees_poisson,R)) + (2*rho_0*(C_l(1,z,degrees_poisson,R)-pow(C_l(1,z,degrees_poisson,R),2)-2*C_l(2,z,degrees_poisson,R)+4*C_l(0,z,degrees_poisson,R)*C_l(2,z,degrees_poisson,R)))                                                                                                                                      \n",
    "    if condition < 0:\n",
    "        print(1-R)\n",
    "        avg.append(1-R)\n",
    "    else:\n",
    "        print(\"greater than 0\")\n",
    "print(\"avg. =\", np.mean(avg))\n",
    "                                                                                                                                                                    "
   ]
  },
  {
   "cell_type": "code",
   "execution_count": null,
   "id": "f85cc908",
   "metadata": {},
   "outputs": [],
   "source": [
    "simulation_threshold = [0.805,0.835, 0.835, 0.86,0.86,0.875,0.89,0.90,0.905,0.91,0.92,0.925,0.925,0.93,0.93]\n",
    "analytic_threshold = [0.80,0.83,0.835, 0.86,0.86,0.875,0.89,0.90, 0.90,0.91,0.92,0.92,0.92,0.93,0.93]\n",
    "# analytic_threshold_updated = [i+0.015 for i in analytic_threshold]\n",
    "z = np.arange(5,20,1)\n",
    "\n",
    "plt.scatter(z, simulation_threshold, marker='o', facecolors='none', edgecolors='red', s=80, linewidths=1.5,label = \"Simulation result\")\n",
    "plt.plot(z,analytic_threshold,'o', label = \"Analytic result\" )\n",
    "plt.legend(loc =\"upper left\")\n",
    "plt.xlabel(\"z (average degree)\")\n",
    "plt.ylabel(\"Critical threshold\")\n",
    "plt.show()"
   ]
  }
 ],
 "metadata": {
  "kernelspec": {
   "display_name": "Python 3 (ipykernel)",
   "language": "python",
   "name": "python3"
  },
  "language_info": {
   "codemirror_mode": {
    "name": "ipython",
    "version": 3
   },
   "file_extension": ".py",
   "mimetype": "text/x-python",
   "name": "python",
   "nbconvert_exporter": "python",
   "pygments_lexer": "ipython3",
   "version": "3.10.6"
  }
 },
 "nbformat": 4,
 "nbformat_minor": 5
}
